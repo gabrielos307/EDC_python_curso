{
 "cells": [
  {
   "cell_type": "code",
   "execution_count": 23,
   "metadata": {},
   "outputs": [
    {
     "name": "stdout",
     "output_type": "stream",
     "text": [
      "Dame la cantidad de calificaciones5\n"
     ]
    }
   ],
   "source": [
    "n = int(input(\"Dame la cantidad de calificaciones\"))"
   ]
  },
  {
   "cell_type": "code",
   "execution_count": 16,
   "metadata": {},
   "outputs": [
    {
     "name": "stdout",
     "output_type": "stream",
     "text": [
      "5\n"
     ]
    }
   ],
   "source": [
    "print(n)"
   ]
  },
  {
   "cell_type": "markdown",
   "metadata": {},
   "source": [
    "## While\n",
    "Repite un bloque de codigo MIENTRAS se cumpla una condición"
   ]
  },
  {
   "cell_type": "code",
   "execution_count": 24,
   "metadata": {},
   "outputs": [
    {
     "name": "stdout",
     "output_type": "stream",
     "text": [
      "LA suma es: 20\n"
     ]
    }
   ],
   "source": [
    "detener = 0\n",
    "suma = 0\n",
    "while detener <10:\n",
    "    suma = suma + 2\n",
    "    detener = detener + 1\n",
    "print(\"LA suma es: \"+str(suma))"
   ]
  },
  {
   "cell_type": "code",
   "execution_count": 18,
   "metadata": {},
   "outputs": [
    {
     "name": "stdout",
     "output_type": "stream",
     "text": [
      "Ingrese su edad: 50\n",
      "Su edad es: 50\n"
     ]
    }
   ],
   "source": [
    "edad = int(input(\"Ingrese su edad: \"))\n",
    "while edad > 100 or edad<0:\n",
    "    print(\"Ingrese una edad correcta\")\n",
    "    edad = int(input(\"Vuelva a ingresar su edad: \"))\n",
    "print(\"Su edad es: \"+str(edad))"
   ]
  }
 ],
 "metadata": {
  "kernelspec": {
   "display_name": "Python 3",
   "language": "python",
   "name": "python3"
  },
  "language_info": {
   "codemirror_mode": {
    "name": "ipython",
    "version": 3
   },
   "file_extension": ".py",
   "mimetype": "text/x-python",
   "name": "python",
   "nbconvert_exporter": "python",
   "pygments_lexer": "ipython3",
   "version": "3.9.6"
  }
 },
 "nbformat": 4,
 "nbformat_minor": 4
}
