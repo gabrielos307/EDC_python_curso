{
 "cells": [
  {
   "cell_type": "markdown",
   "metadata": {},
   "source": [
    "# Ciclo for\n",
    "Repetirá el un bloque de código de 1 hasta N cantidad de veces"
   ]
  },
  {
   "cell_type": "code",
   "execution_count": 13,
   "metadata": {},
   "outputs": [
    {
     "name": "stdout",
     "output_type": "stream",
     "text": [
      "0\n",
      "2\n",
      "4\n",
      "6\n",
      "8\n",
      "------------------------\n",
      "0\n",
      "1\n",
      "2\n",
      "3\n",
      "4\n"
     ]
    }
   ],
   "source": [
    "#for i = 0; i<10; i++\n",
    "#nos apoyamos de una función llamada range(inicio, fin, decuantoencuanto)\n",
    "for i in range(0,10,2):\n",
    "    print(i)\n",
    "print(\"------------------------\")\n",
    "#lista = [0,1,2,3,4]\n",
    "for i in range(5): #toma por defecto que inicie en 0 y sea menor que 10\n",
    "    print(i)"
   ]
  },
  {
   "cell_type": "code",
   "execution_count": 14,
   "metadata": {},
   "outputs": [
    {
     "name": "stdout",
     "output_type": "stream",
     "text": [
      "python\n",
      "10\n",
      "hola\n",
      "2.2\n"
     ]
    }
   ],
   "source": [
    "lista = [\"python\", 10, \"hola\", 2.2]\n",
    "for i in lista:\n",
    "    print(i)"
   ]
  },
  {
   "cell_type": "code",
   "execution_count": 16,
   "metadata": {},
   "outputs": [
    {
     "name": "stdout",
     "output_type": "stream",
     "text": [
      "El resultado es: 8.833333333333334\n"
     ]
    }
   ],
   "source": [
    "timing\n",
    "promedio = [500]\n",
    "suma = 0\n",
    "for i in promedio:\n",
    "    suma = suma + i\n",
    "#len() regresa el numero de elementos que contiene la lista\n",
    "n = len(promedio)\n",
    "resultado = suma/n\n",
    "print(\"El resultado es: \"+str(resultado))"
   ]
  },
  {
   "cell_type": "code",
   "execution_count": null,
   "metadata": {},
   "outputs": [],
   "source": [
    "#Tarea: Pedir las calificaciones de los alumnos a traves de taclado\n",
    "#TIP: primero pidan la cantidad de calificaciones y guardenla en una variable\n",
    "#TIP2: Para agregar elemento a una lista utilizamos append()"
   ]
  }
 ],
 "metadata": {
  "kernelspec": {
   "display_name": "Python 3",
   "language": "python",
   "name": "python3"
  },
  "language_info": {
   "codemirror_mode": {
    "name": "ipython",
    "version": 3
   },
   "file_extension": ".py",
   "mimetype": "text/x-python",
   "name": "python",
   "nbconvert_exporter": "python",
   "pygments_lexer": "ipython3",
   "version": "3.9.6"
  }
 },
 "nbformat": 4,
 "nbformat_minor": 4
}
