{
 "cells": [
  {
   "cell_type": "code",
   "execution_count": 2,
   "metadata": {},
   "outputs": [
    {
     "name": "stdout",
     "output_type": "stream",
     "text": [
      "Hola mundo\n"
     ]
    }
   ],
   "source": [
    "print(\"Hola mundo\")"
   ]
  },
  {
   "cell_type": "code",
   "execution_count": 3,
   "metadata": {},
   "outputs": [],
   "source": [
    "variable = 5\n",
    "variable2 = 9\n",
    "x= 50000"
   ]
  },
  {
   "cell_type": "code",
   "execution_count": 4,
   "metadata": {},
   "outputs": [
    {
     "data": {
      "text/plain": [
       "14"
      ]
     },
     "execution_count": 4,
     "metadata": {},
     "output_type": "execute_result"
    }
   ],
   "source": [
    "resultado = variable + variable2\n",
    "resultado"
   ]
  },
  {
   "cell_type": "code",
   "execution_count": 5,
   "metadata": {},
   "outputs": [
    {
     "ename": "TypeError",
     "evalue": "can only concatenate str (not \"int\") to str",
     "output_type": "error",
     "traceback": [
      "\u001b[1;31m---------------------------------------------------------------------------\u001b[0m",
      "\u001b[1;31mTypeError\u001b[0m                                 Traceback (most recent call last)",
      "\u001b[1;32m<ipython-input-5-4dabe0ec1eb9>\u001b[0m in \u001b[0;36m<module>\u001b[1;34m\u001b[0m\n\u001b[0;32m      2\u001b[0m \u001b[0mb\u001b[0m \u001b[1;33m=\u001b[0m \u001b[1;34m\"mundo\"\u001b[0m\u001b[1;33m\u001b[0m\u001b[1;33m\u001b[0m\u001b[0m\n\u001b[0;32m      3\u001b[0m \u001b[1;31m#concatena (junta) a y b\u001b[0m\u001b[1;33m\u001b[0m\u001b[1;33m\u001b[0m\u001b[1;33m\u001b[0m\u001b[0m\n\u001b[1;32m----> 4\u001b[1;33m \u001b[0mprint\u001b[0m\u001b[1;33m(\u001b[0m\u001b[0ma\u001b[0m\u001b[1;33m+\u001b[0m\u001b[1;34m\" \"\u001b[0m\u001b[1;33m+\u001b[0m\u001b[0mb\u001b[0m\u001b[1;33m+\u001b[0m\u001b[0mresultado\u001b[0m\u001b[1;33m)\u001b[0m\u001b[1;33m\u001b[0m\u001b[1;33m\u001b[0m\u001b[0m\n\u001b[0m",
      "\u001b[1;31mTypeError\u001b[0m: can only concatenate str (not \"int\") to str"
     ]
    }
   ],
   "source": [
    "a = \"hola\"\n",
    "b = \"mundo\"\n",
    "#concatena (junta) a y b\n",
    "print(a+\" \"+b+resultado)"
   ]
  },
  {
   "cell_type": "code",
   "execution_count": 6,
   "metadata": {},
   "outputs": [
    {
     "name": "stdout",
     "output_type": "stream",
     "text": [
      "El resultado es: 14\n"
     ]
    }
   ],
   "source": [
    "#str() convierte una variable a cadena\n",
    "#int() convierte una variable a entero\n",
    "#float() Convierte una variable a flotante\n",
    "print(\"El resultado es: \"+str(resultado) )"
   ]
  },
  {
   "cell_type": "code",
   "execution_count": 7,
   "metadata": {},
   "outputs": [],
   "source": [
    "#type() te dice el tipo de dato\n",
    "x = 5\n",
    "y = 9.9\n",
    "z = \"HOla\"\n",
    "w = 0.0\n",
    "r = x+w"
   ]
  },
  {
   "cell_type": "code",
   "execution_count": 11,
   "metadata": {},
   "outputs": [
    {
     "data": {
      "text/plain": [
       "'hola hola hola hola hola '"
      ]
     },
     "execution_count": 11,
     "metadata": {},
     "output_type": "execute_result"
    }
   ],
   "source": [
    "\"hola \"*5"
   ]
  },
  {
   "cell_type": "code",
   "execution_count": 13,
   "metadata": {},
   "outputs": [
    {
     "name": "stdout",
     "output_type": "stream",
     "text": [
      "La suma es: 14.9\n",
      "La resta es: -4.9\n",
      "La multiplicacion entre 5 y 9.9 es: 49.5\n"
     ]
    }
   ],
   "source": [
    "suma = x+y\n",
    "resta = x-y\n",
    "multiplicacion = x*y\n",
    "division = x/y\n",
    "potencia = x**8\n",
    "print(\"La suma es: \"+str(suma))\n",
    "print(\"La resta es: \"+str(resta))\n",
    "#la multiplicacion entre 5 y 9.9 es: resultado\n",
    "print(\"La multiplicacion entre \"+str(x)+\" y \"+str(y)+\" es: \"+str(multiplicacion))"
   ]
  },
  {
   "cell_type": "code",
   "execution_count": 20,
   "metadata": {},
   "outputs": [
    {
     "name": "stdout",
     "output_type": "stream",
     "text": [
      "dame el valor de a: 9\n",
      "Dame el valor de b: 9\n",
      "EL resultado es: 18\n"
     ]
    }
   ],
   "source": [
    "#como pedir valores desde el teclado\n",
    "#input-> pide un valor desde el teclado\n",
    "#almacena la entrada del teclado como un string\n",
    "#int() -> convierte una variable a entero\n",
    "a = int(input(\"dame el valor de a: \"))\n",
    "b = int(input(\"Dame el valor de b: \"))\n",
    "resultado = a + b\n",
    "\n",
    "print(\"EL resultado es: \"+str(resultado))"
   ]
  },
  {
   "cell_type": "code",
   "execution_count": null,
   "metadata": {},
   "outputs": [],
   "source": []
  },
  {
   "cell_type": "markdown",
   "metadata": {},
   "source": [
    "### listas"
   ]
  },
  {
   "cell_type": "code",
   "execution_count": 59,
   "metadata": {},
   "outputs": [
    {
     "data": {
      "text/plain": [
       "[7, 6, 'holi', 5.4, 'cualquier cadena', ['python', 'sabado'], 7, 7]"
      ]
     },
     "execution_count": 59,
     "metadata": {},
     "output_type": "execute_result"
    }
   ],
   "source": [
    "lista_1 = [7,6, \"holi\", 5.4, \"cualquier cadena\", [\"python\", \"sabado\"], 7]\n",
    "#append() -> agrega un elemento al final de la lista\n",
    "lista_1.append(7)\n",
    "lista_1"
   ]
  },
  {
   "cell_type": "code",
   "execution_count": 73,
   "metadata": {},
   "outputs": [
    {
     "data": {
      "text/plain": [
       "'holi'"
      ]
     },
     "execution_count": 73,
     "metadata": {},
     "output_type": "execute_result"
    }
   ],
   "source": [
    "#[ 5.5, 20, 9 , 4, \"hola\"]\n",
    "#   0    1  2   3    4\n",
    "# ['h','o', 'l', 'i']\n",
    "lista_1[2]"
   ]
  },
  {
   "cell_type": "code",
   "execution_count": 46,
   "metadata": {},
   "outputs": [
    {
     "data": {
      "text/plain": [
       "[7, 6, 'holi', 5.4, 'cualquier cadena', ['python', 'sabado'], 7]"
      ]
     },
     "execution_count": 46,
     "metadata": {},
     "output_type": "execute_result"
    }
   ],
   "source": [
    "#pop() -> quita un elemento al final de la lista\n",
    "lista_1.pop()\n",
    "lista_1"
   ]
  },
  {
   "cell_type": "code",
   "execution_count": 47,
   "metadata": {},
   "outputs": [
    {
     "data": {
      "text/plain": [
       "2"
      ]
     },
     "execution_count": 47,
     "metadata": {},
     "output_type": "execute_result"
    }
   ],
   "source": [
    "#count() -> cuenta el elemento que se repite\n",
    "lista_1.count(7)"
   ]
  },
  {
   "cell_type": "code",
   "execution_count": 75,
   "metadata": {},
   "outputs": [
    {
     "data": {
      "text/plain": [
       "2"
      ]
     },
     "execution_count": 75,
     "metadata": {},
     "output_type": "execute_result"
    }
   ],
   "source": [
    "#index() -> devuelve el indice donde se encuentra un elemento\n",
    "lista_1.index(\"holi\")"
   ]
  },
  {
   "cell_type": "code",
   "execution_count": 76,
   "metadata": {},
   "outputs": [
    {
     "data": {
      "text/plain": [
       "[7, 6, 800000, 'holi', 5.4, 'cualquier cadena', ['python', 'sabado'], 7, 7]"
      ]
     },
     "execution_count": 76,
     "metadata": {},
     "output_type": "execute_result"
    }
   ],
   "source": [
    "#insert(i,x) -> i es el indice donde va insertar un elemento y x sera el valor que va ingresar\n",
    "lista_1.insert(2, 800000)\n",
    "lista_1"
   ]
  },
  {
   "cell_type": "code",
   "execution_count": 77,
   "metadata": {},
   "outputs": [
    {
     "data": {
      "text/plain": [
       "[7, 6, 800000, 5.4, 'cualquier cadena', ['python', 'sabado'], 7, 7]"
      ]
     },
     "execution_count": 77,
     "metadata": {},
     "output_type": "execute_result"
    }
   ],
   "source": [
    "#remove(x) -> remueve el elemento x en nuestra lista\n",
    "lista_1.remove(\"holi\")\n",
    "lista_1"
   ]
  },
  {
   "cell_type": "markdown",
   "metadata": {},
   "source": [
    "### Tuplas"
   ]
  },
  {
   "cell_type": "code",
   "execution_count": 80,
   "metadata": {},
   "outputs": [],
   "source": [
    "tupla = (25,60,\"holi\",(\"tupla\"), [\"python\"], 0.2, 25)"
   ]
  },
  {
   "cell_type": "code",
   "execution_count": 81,
   "metadata": {},
   "outputs": [
    {
     "data": {
      "text/plain": [
       "2"
      ]
     },
     "execution_count": 81,
     "metadata": {},
     "output_type": "execute_result"
    }
   ],
   "source": [
    "#count() -> cuenta el elemento que se repite\n",
    "tupla.count(25)"
   ]
  },
  {
   "cell_type": "code",
   "execution_count": 84,
   "metadata": {},
   "outputs": [],
   "source": [
    "password = (1234, \"qwerty\", \"mi_contrasenia\")"
   ]
  },
  {
   "cell_type": "markdown",
   "metadata": {},
   "source": [
    "### Diccionarios"
   ]
  },
  {
   "cell_type": "code",
   "execution_count": 105,
   "metadata": {},
   "outputs": [
    {
     "name": "stdout",
     "output_type": "stream",
     "text": [
      "Mi nombre es: Alejandro\n",
      "Mi edad es: 23 años\n",
      "Yo me dedico a: Tallerista\n",
      "Mis contrasenias son: 1234 y qwerty\n"
     ]
    }
   ],
   "source": [
    "#Es un conjunto de elementos identificados por clave : valor\n",
    "mi_diccionario = {\"clave\":\"valor\"}\n",
    "diccionario = {\"nombre\":\"Alejandro\", \"edad\": 23, \"ocupacion\": \"Tallerista\", \"contrasenias\": (\"1234\", \"qwerty\")}\n",
    "#crear un diccionario con sus datos y deben de imprimir sus datos en un print\n",
    "print(\"Mi nombre es: \"+diccionario[\"nombre\"])\n",
    "print(\"Mi edad es: \"+str(diccionario[\"edad\"])+\" años\")\n",
    "print(\"Yo me dedico a: \"+diccionario[\"ocupacion\"])\n",
    "print(\"Mis contrasenias son: \"+diccionario[\"contrasenias\"][0]+\" y \"+diccionario[\"contrasenias\"][1])"
   ]
  },
  {
   "cell_type": "markdown",
   "metadata": {},
   "source": [
    "#### soy un titulo"
   ]
  }
 ],
 "metadata": {
  "kernelspec": {
   "display_name": "Python 3",
   "language": "python",
   "name": "python3"
  },
  "language_info": {
   "codemirror_mode": {
    "name": "ipython",
    "version": 3
   },
   "file_extension": ".py",
   "mimetype": "text/x-python",
   "name": "python",
   "nbconvert_exporter": "python",
   "pygments_lexer": "ipython3",
   "version": "3.9.6"
  }
 },
 "nbformat": 4,
 "nbformat_minor": 4
}
