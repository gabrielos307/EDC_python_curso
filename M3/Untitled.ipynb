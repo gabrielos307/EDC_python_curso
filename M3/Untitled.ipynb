{
 "cells": [
  {
   "cell_type": "markdown",
   "metadata": {},
   "source": [
    "### Introducción a pandas y matplotlib"
   ]
  },
  {
   "cell_type": "code",
   "execution_count": 8,
   "metadata": {},
   "outputs": [],
   "source": [
    "import pandas as pd"
   ]
  },
  {
   "cell_type": "code",
   "execution_count": 9,
   "metadata": {},
   "outputs": [],
   "source": [
    "datos = {'nombre':['hamburguesa', 'hotdogs', 'alitas', 'papas a la francesa', 'platanos fritos'],\n",
    "         'precio':[50, 25,50,35,30],\n",
    "         'vendidos':[5,4,5,8,2],\n",
    "         'disponibilidad':['viernes', 'sábado', 'sábados', ['viernes', 'sábados'], ['viernes', 'sábados']]\n",
    "        }"
   ]
  },
  {
   "cell_type": "code",
   "execution_count": 10,
   "metadata": {},
   "outputs": [],
   "source": [
    "df = pd.DataFrame(datos)"
   ]
  },
  {
   "cell_type": "code",
   "execution_count": 18,
   "metadata": {},
   "outputs": [
    {
     "data": {
      "text/plain": [
       "array([50, 25, 35, 30], dtype=int64)"
      ]
     },
     "execution_count": 18,
     "metadata": {},
     "output_type": "execute_result"
    }
   ],
   "source": [
    "df[\"precio\"].unique()"
   ]
  },
  {
   "cell_type": "code",
   "execution_count": 27,
   "metadata": {},
   "outputs": [
    {
     "data": {
      "text/html": [
       "<div>\n",
       "<style scoped>\n",
       "    .dataframe tbody tr th:only-of-type {\n",
       "        vertical-align: middle;\n",
       "    }\n",
       "\n",
       "    .dataframe tbody tr th {\n",
       "        vertical-align: top;\n",
       "    }\n",
       "\n",
       "    .dataframe thead th {\n",
       "        text-align: right;\n",
       "    }\n",
       "</style>\n",
       "<table border=\"1\" class=\"dataframe\">\n",
       "  <thead>\n",
       "    <tr style=\"text-align: right;\">\n",
       "      <th></th>\n",
       "      <th>nombre</th>\n",
       "      <th>precio</th>\n",
       "      <th>vendidos</th>\n",
       "      <th>disponibilidad</th>\n",
       "    </tr>\n",
       "  </thead>\n",
       "  <tbody>\n",
       "    <tr>\n",
       "      <th>0</th>\n",
       "      <td>hamburguesa</td>\n",
       "      <td>50</td>\n",
       "      <td>5</td>\n",
       "      <td>viernes</td>\n",
       "    </tr>\n",
       "    <tr>\n",
       "      <th>1</th>\n",
       "      <td>hotdogs</td>\n",
       "      <td>25</td>\n",
       "      <td>4</td>\n",
       "      <td>sábado</td>\n",
       "    </tr>\n",
       "    <tr>\n",
       "      <th>2</th>\n",
       "      <td>alitas</td>\n",
       "      <td>50</td>\n",
       "      <td>5</td>\n",
       "      <td>sábados</td>\n",
       "    </tr>\n",
       "    <tr>\n",
       "      <th>3</th>\n",
       "      <td>papas a la francesa</td>\n",
       "      <td>35</td>\n",
       "      <td>8</td>\n",
       "      <td>[viernes, sábados]</td>\n",
       "    </tr>\n",
       "    <tr>\n",
       "      <th>4</th>\n",
       "      <td>platanos fritos</td>\n",
       "      <td>30</td>\n",
       "      <td>2</td>\n",
       "      <td>[viernes, sábados]</td>\n",
       "    </tr>\n",
       "  </tbody>\n",
       "</table>\n",
       "</div>"
      ],
      "text/plain": [
       "                nombre  precio  vendidos      disponibilidad\n",
       "0          hamburguesa      50         5             viernes\n",
       "1              hotdogs      25         4              sábado\n",
       "2               alitas      50         5             sábados\n",
       "3  papas a la francesa      35         8  [viernes, sábados]\n",
       "4      platanos fritos      30         2  [viernes, sábados]"
      ]
     },
     "execution_count": 27,
     "metadata": {},
     "output_type": "execute_result"
    }
   ],
   "source": [
    "df.head()"
   ]
  },
  {
   "cell_type": "markdown",
   "metadata": {},
   "source": [
    "##### funciones básicas\n",
    "- head\n",
    "- count\n",
    "- max\n",
    "- min\n",
    "- mean\n",
    "- unique\n",
    "- median\n",
    "- mode\n",
    "- std\n",
    "- var"
   ]
  },
  {
   "cell_type": "markdown",
   "metadata": {},
   "source": [
    "##### ejercicios\n",
    "- ¿cuál es el precio máximo de nuestros productos?\n",
    "- ¿que producto se vende menos?\n",
    "- ¿Media de ventas?\n",
    "- ¿cuál es la moda de los productos vendidos?\n",
    "- desviación estandar de los precios"
   ]
  },
  {
   "cell_type": "code",
   "execution_count": 74,
   "metadata": {},
   "outputs": [
    {
     "name": "stdout",
     "output_type": "stream",
     "text": [
      "Precio máximo \n",
      "                      precio  vendidos      disponibilidad\n",
      "nombre                                                   \n",
      "alitas                   50         5             sábados\n",
      "hamburguesa              50         5             viernes\n",
      "hotdogs                  25         4              sábado\n",
      "papas a la francesa      35         8  [viernes, sábados]\n",
      "platanos fritos          30         2  [viernes, sábados]\n",
      "Producto menos vendido \n",
      " 2\n",
      "Media de los productos vendidos 4.8\n",
      "Moda de los productos vendidos 0    5\n",
      "dtype: int64\n",
      "Desviación estandar 11.510864433221338\n"
     ]
    }
   ],
   "source": [
    "#ejercicio 1\n",
    "print(\"Precio máximo \\n\",df.groupby(\"nombre\").max())\n",
    "#ejercicio 2\n",
    "print(\"Producto menos vendido \\n\", df[\"vendidos\"].min())\n",
    "#ejercicio 3\n",
    "print(\"Media de los productos vendidos\",df[\"vendidos\"].mean())\n",
    "#ejercicicio 4\n",
    "print(\"Moda de los productos vendidos\",df[\"vendidos\"].mode())\n",
    "#ejercicio 5\n",
    "print(\"Desviación estandar\",df[\"precio\"].std())"
   ]
  },
  {
   "cell_type": "code",
   "execution_count": 76,
   "metadata": {},
   "outputs": [],
   "source": [
    "from matplotlib.pyplot import plot"
   ]
  }
 ],
 "metadata": {
  "kernelspec": {
   "display_name": "Python 3",
   "language": "python",
   "name": "python3"
  },
  "language_info": {
   "codemirror_mode": {
    "name": "ipython",
    "version": 3
   },
   "file_extension": ".py",
   "mimetype": "text/x-python",
   "name": "python",
   "nbconvert_exporter": "python",
   "pygments_lexer": "ipython3",
   "version": "3.9.6"
  }
 },
 "nbformat": 4,
 "nbformat_minor": 4
}
