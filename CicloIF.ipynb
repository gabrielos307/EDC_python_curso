{
 "cells": [
  {
   "cell_type": "markdown",
   "metadata": {},
   "source": [
    "### Identación\n",
    "La identación es el espacio que va determinar el bloque de un ciclo o una función.\n",
    "Esta se representa por 4 veces la tecla espacio ó 1 vez la tecla tab -><- "
   ]
  },
  {
   "cell_type": "markdown",
   "metadata": {},
   "source": [
    "### Ciclo if\n",
    "Nos permite tomar decisiones para controlar el flujo del programa. Se determina con base a los valores True o False"
   ]
  },
  {
   "cell_type": "markdown",
   "metadata": {},
   "source": [
    "#### Condiciones\n",
    "* Igual == Cuando las variables son iguales\n",
    "* Diferente != Cuando las variables no son iguales\n",
    "* Mayor que > Cuando la variable de la izquierda es mayor que la derecha\n",
    "* Menor que < Cuando la variable de la izquierda es menor que la derecha\n",
    "* Mayor o igual que >= Cuando la variable de la izquierda es mayor o igual que la derecha\n",
    "* Menor o igual que <= Cuando la variable de la izquierda es menor o igual que la derecha"
   ]
  },
  {
   "cell_type": "markdown",
   "metadata": {},
   "source": [
    "#### Operadores lógicos\n",
    "* Condicion1 and Condicion2 -> Es válido cuando la condicion1 Y la condicion2 son verdaderas. Las dos se deben de cumplir.\n",
    "* Condicion1 or Condicion2 -> Es válido cuando la condicion1 O la condicion2 son verdaderas. Cualquiera de las dos se cumple."
   ]
  },
  {
   "cell_type": "code",
   "execution_count": 19,
   "metadata": {},
   "outputs": [
    {
     "data": {
      "text/plain": [
       "True"
      ]
     },
     "execution_count": 19,
     "metadata": {},
     "output_type": "execute_result"
    }
   ],
   "source": [
    "a = 9\n",
    "b = 9\n",
    "a==b"
   ]
  },
  {
   "cell_type": "code",
   "execution_count": 18,
   "metadata": {},
   "outputs": [
    {
     "name": "stdout",
     "output_type": "stream",
     "text": [
      "La variable es False!!!\n"
     ]
    }
   ],
   "source": [
    "variable = False\n",
    "if(variable == False): #si sí\n",
    "    print(\"La variable es False!!!\")\n",
    "else: #el caso contrario (Si no)\n",
    "    print(\"La variable es True!!!\")"
   ]
  },
  {
   "cell_type": "code",
   "execution_count": 44,
   "metadata": {},
   "outputs": [
    {
     "name": "stdout",
     "output_type": "stream",
     "text": [
      "Define tu altura en centimetros: 210\n",
      "Puedes acceder al juego !!\n"
     ]
    }
   ],
   "source": [
    "#Programa que determina si tu altura es la adecuada para entrar a un juego\n",
    "altura = int(input(\"Define tu altura en centimetros: \"))\n",
    "#Altura debe ser mayor o igual que 120 y altura debes ser menor que 230\n",
    "\n",
    "if(altura >= 120 and altura <= 230):\n",
    "    print(\"Puedes acceder al juego !!\")\n",
    "#Validamos si no se cumple la condición de arriba\n",
    "elif(altura < 120 and altura >=100):\n",
    "    print(\"No puedes acceder al juego :C\")\n",
    "else: #en caso contrario\n",
    "    print(\"Aviso. Ingresa una altura correcta.\")"
   ]
  },
  {
   "cell_type": "code",
   "execution_count": 23,
   "metadata": {},
   "outputs": [
    {
     "data": {
      "text/plain": [
       "'120'"
      ]
     },
     "execution_count": 23,
     "metadata": {},
     "output_type": "execute_result"
    }
   ],
   "source": []
  }
 ],
 "metadata": {
  "kernelspec": {
   "display_name": "Python 3",
   "language": "python",
   "name": "python3"
  },
  "language_info": {
   "codemirror_mode": {
    "name": "ipython",
    "version": 3
   },
   "file_extension": ".py",
   "mimetype": "text/x-python",
   "name": "python",
   "nbconvert_exporter": "python",
   "pygments_lexer": "ipython3",
   "version": "3.9.6"
  }
 },
 "nbformat": 4,
 "nbformat_minor": 4
}
