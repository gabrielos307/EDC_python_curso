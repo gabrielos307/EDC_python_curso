{
 "cells": [
  {
   "cell_type": "code",
   "execution_count": 1,
   "metadata": {},
   "outputs": [],
   "source": [
    "#Generar un programa que realiza descuentos de acuerdo al total de la compra\n",
    "#si la compra fue menor a $500 no aplica descuento\n",
    "#si la compra fue mayor $500 hay descuento del 10%\n",
    "#si la compra fue mayor a $1000 hay descuento del 15%\n",
    "#si la compra fue mayor a $1500 hay descuento del 20%"
   ]
  },
  {
   "cell_type": "code",
   "execution_count": 7,
   "metadata": {},
   "outputs": [
    {
     "name": "stdout",
     "output_type": "stream",
     "text": [
      "El total de la compra fue: 500\n"
     ]
    }
   ],
   "source": [
    "total = float(input(\"El total de la compra fue: \"))\n",
    "if(total < 500):\n",
    "    print(\"No aplica descuento con tu compra :C\")\n",
    "    print(\"Total a pagar: $\",total)\n",
    "elif(total >= 500 and total < 1000):\n",
    "    print(\"Se le aplicó un descuento del 10%\")\n",
    "    total_pagar = total*0.9\n",
    "    print(\"Total a pagar: $\", total_pagar)\n",
    "elif(total >=1000 and total < 1500):\n",
    "    print(\"Se le aplicó un descuento del 15%\")\n",
    "    total_pagar = total*0.85\n",
    "    print(\"Total a pagar: $\", total_pagar)\n",
    "elif(total >= 1500):\n",
    "    print(\"Se le aplicó un descuento del 20%\")\n",
    "    total_pagar = total*0.80\n",
    "    print(\"Total a pagar: $\", total_pagar)"
   ]
  },
  {
   "cell_type": "code",
   "execution_count": 11,
   "metadata": {},
   "outputs": [
    {
     "name": "stdout",
     "output_type": "stream",
     "text": [
      "El total de la compra fue: 500\n",
      "Se le aplicó un descuento del 10%\n",
      "Total a pagar: $ 450.0\n"
     ]
    }
   ],
   "source": [
    "def descuento(total):\n",
    "    if(total < 500):\n",
    "        print(\"No aplica descuento con tu compra :C\")\n",
    "        print(\"Total a pagar: $\",total)\n",
    "    elif(total >= 500 and total < 1000):\n",
    "        print(\"Se le aplicó un descuento del 10%\")        \n",
    "        total_pagar = total*0.9\n",
    "        print(\"Total a pagar: $\", total_pagar)\n",
    "    elif(total >=1000 and total < 1500):\n",
    "        print(\"Se le aplicó un descuento del 15%\")\n",
    "        total_pagar = total*0.85\n",
    "        print(\"Total a pagar: $\", total_pagar)\n",
    "    elif(total >= 1500):\n",
    "        print(\"Se le aplicó un descuento del 20%\")\n",
    "        total_pagar = total*0.80\n",
    "        print(\"Total a pagar: $\", total_pagar)\n",
    "total_compra = float(input(\"El total de la compra fue: \"))\n",
    "descuento(total_compra)"
   ]
  }
 ],
 "metadata": {
  "kernelspec": {
   "display_name": "Python 3",
   "language": "python",
   "name": "python3"
  },
  "language_info": {
   "codemirror_mode": {
    "name": "ipython",
    "version": 3
   },
   "file_extension": ".py",
   "mimetype": "text/x-python",
   "name": "python",
   "nbconvert_exporter": "python",
   "pygments_lexer": "ipython3",
   "version": "3.9.6"
  }
 },
 "nbformat": 4,
 "nbformat_minor": 4
}
