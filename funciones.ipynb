{
 "cells": [
  {
   "cell_type": "code",
   "execution_count": 17,
   "metadata": {},
   "outputs": [
    {
     "name": "stdout",
     "output_type": "stream",
     "text": [
      "Suma: 54\n"
     ]
    }
   ],
   "source": [
    "#f(x) = x+1\n",
    "#f(20) = 20+1\n",
    "#puede o no tener argumento -> x\n",
    "def funcion(numerote):\n",
    "    #numerote -> es como un alias del argumento a tratar\n",
    "    #solamente existe en la funcion\n",
    "    suma = numerote + 4\n",
    "    print(\"Suma: \"+str(suma))\n",
    "#mandar a llamar la funcion\n",
    "funcion(50)"
   ]
  },
  {
   "cell_type": "code",
   "execution_count": 19,
   "metadata": {},
   "outputs": [
    {
     "name": "stdout",
     "output_type": "stream",
     "text": [
      "Resultado desde la funcion: 32\n"
     ]
    }
   ],
   "source": [
    "#f(x) = x^2\n",
    "def potencia(x, pot):\n",
    "    resultado = x**pot\n",
    "    print(\"Resultado desde la funcion: \"+str(resultado))\n",
    "    #return None\n",
    "potencia(2,5)"
   ]
  },
  {
   "cell_type": "code",
   "execution_count": 20,
   "metadata": {},
   "outputs": [
    {
     "name": "stdout",
     "output_type": "stream",
     "text": [
      "Resultado fuera de la funcion: 4\n"
     ]
    }
   ],
   "source": [
    "def potencia2(x, pot):\n",
    "    resultado = x**pot\n",
    "    #regresar el valor\n",
    "    return resultado\n",
    "variable = potencia2(2,2)\n",
    "print(\"Resultado fuera de la funcion: \"+str(variable))"
   ]
  },
  {
   "cell_type": "code",
   "execution_count": 31,
   "metadata": {},
   "outputs": [
    {
     "name": "stdout",
     "output_type": "stream",
     "text": [
      "Bienvenid@ a la calculadora :D \n",
      " Ingrese una opcion\n",
      "Opcion 1: Sumar\n",
      "Opcion 2: Restar\n",
      "Opcion 3: Multiplicar\n",
      "Opcion 4: Dividir\n",
      "Opcion 5: Salir\n"
     ]
    },
    {
     "ename": "KeyboardInterrupt",
     "evalue": "Interrupted by user",
     "output_type": "error",
     "traceback": [
      "\u001b[1;31m---------------------------------------------------------------------------\u001b[0m",
      "\u001b[1;31mKeyboardInterrupt\u001b[0m                         Traceback (most recent call last)",
      "\u001b[1;32m<ipython-input-31-b1ccfb4bed0d>\u001b[0m in \u001b[0;36m<module>\u001b[1;34m\u001b[0m\n\u001b[0;32m     24\u001b[0m     \u001b[0mprint\u001b[0m\u001b[1;33m(\u001b[0m\u001b[1;34m\"Opcion 4: Dividir\"\u001b[0m\u001b[1;33m)\u001b[0m\u001b[1;33m\u001b[0m\u001b[1;33m\u001b[0m\u001b[0m\n\u001b[0;32m     25\u001b[0m     \u001b[0mprint\u001b[0m\u001b[1;33m(\u001b[0m\u001b[1;34m\"Opcion 5: Salir\"\u001b[0m\u001b[1;33m)\u001b[0m\u001b[1;33m\u001b[0m\u001b[1;33m\u001b[0m\u001b[0m\n\u001b[1;32m---> 26\u001b[1;33m     \u001b[0mopcion\u001b[0m \u001b[1;33m=\u001b[0m \u001b[0mint\u001b[0m\u001b[1;33m(\u001b[0m\u001b[0minput\u001b[0m\u001b[1;33m(\u001b[0m\u001b[1;34m\"Elija una opcion\"\u001b[0m\u001b[1;33m)\u001b[0m\u001b[1;33m)\u001b[0m\u001b[1;33m\u001b[0m\u001b[1;33m\u001b[0m\u001b[0m\n\u001b[0m\u001b[0;32m     27\u001b[0m     \u001b[1;32mif\u001b[0m \u001b[1;33m(\u001b[0m\u001b[0mopcion\u001b[0m \u001b[1;33m==\u001b[0m \u001b[1;36m1\u001b[0m\u001b[1;33m)\u001b[0m\u001b[1;33m:\u001b[0m\u001b[1;33m\u001b[0m\u001b[1;33m\u001b[0m\u001b[0m\n\u001b[0;32m     28\u001b[0m         \u001b[1;31m#sumar\u001b[0m\u001b[1;33m\u001b[0m\u001b[1;33m\u001b[0m\u001b[1;33m\u001b[0m\u001b[0m\n",
      "\u001b[1;32m~\\AppData\\Roaming\\Python\\Python39\\site-packages\\ipykernel\\kernelbase.py\u001b[0m in \u001b[0;36mraw_input\u001b[1;34m(self, prompt)\u001b[0m\n\u001b[0;32m    855\u001b[0m                 \u001b[1;34m\"raw_input was called, but this frontend does not support input requests.\"\u001b[0m\u001b[1;33m\u001b[0m\u001b[1;33m\u001b[0m\u001b[0m\n\u001b[0;32m    856\u001b[0m             )\n\u001b[1;32m--> 857\u001b[1;33m         return self._input_request(str(prompt),\n\u001b[0m\u001b[0;32m    858\u001b[0m             \u001b[0mself\u001b[0m\u001b[1;33m.\u001b[0m\u001b[0m_parent_ident\u001b[0m\u001b[1;33m,\u001b[0m\u001b[1;33m\u001b[0m\u001b[1;33m\u001b[0m\u001b[0m\n\u001b[0;32m    859\u001b[0m             \u001b[0mself\u001b[0m\u001b[1;33m.\u001b[0m\u001b[0m_parent_header\u001b[0m\u001b[1;33m,\u001b[0m\u001b[1;33m\u001b[0m\u001b[1;33m\u001b[0m\u001b[0m\n",
      "\u001b[1;32m~\\AppData\\Roaming\\Python\\Python39\\site-packages\\ipykernel\\kernelbase.py\u001b[0m in \u001b[0;36m_input_request\u001b[1;34m(self, prompt, ident, parent, password)\u001b[0m\n\u001b[0;32m    899\u001b[0m             \u001b[1;32mexcept\u001b[0m \u001b[0mKeyboardInterrupt\u001b[0m\u001b[1;33m:\u001b[0m\u001b[1;33m\u001b[0m\u001b[1;33m\u001b[0m\u001b[0m\n\u001b[0;32m    900\u001b[0m                 \u001b[1;31m# re-raise KeyboardInterrupt, to truncate traceback\u001b[0m\u001b[1;33m\u001b[0m\u001b[1;33m\u001b[0m\u001b[1;33m\u001b[0m\u001b[0m\n\u001b[1;32m--> 901\u001b[1;33m                 \u001b[1;32mraise\u001b[0m \u001b[0mKeyboardInterrupt\u001b[0m\u001b[1;33m(\u001b[0m\u001b[1;34m\"Interrupted by user\"\u001b[0m\u001b[1;33m)\u001b[0m \u001b[1;32mfrom\u001b[0m \u001b[1;32mNone\u001b[0m\u001b[1;33m\u001b[0m\u001b[1;33m\u001b[0m\u001b[0m\n\u001b[0m\u001b[0;32m    902\u001b[0m             \u001b[1;32mexcept\u001b[0m \u001b[0mException\u001b[0m \u001b[1;32mas\u001b[0m \u001b[0me\u001b[0m\u001b[1;33m:\u001b[0m\u001b[1;33m\u001b[0m\u001b[1;33m\u001b[0m\u001b[0m\n\u001b[0;32m    903\u001b[0m                 \u001b[0mself\u001b[0m\u001b[1;33m.\u001b[0m\u001b[0mlog\u001b[0m\u001b[1;33m.\u001b[0m\u001b[0mwarning\u001b[0m\u001b[1;33m(\u001b[0m\u001b[1;34m\"Invalid Message:\"\u001b[0m\u001b[1;33m,\u001b[0m \u001b[0mexc_info\u001b[0m\u001b[1;33m=\u001b[0m\u001b[1;32mTrue\u001b[0m\u001b[1;33m)\u001b[0m\u001b[1;33m\u001b[0m\u001b[1;33m\u001b[0m\u001b[0m\n",
      "\u001b[1;31mKeyboardInterrupt\u001b[0m: Interrupted by user"
     ]
    }
   ],
   "source": [
    "#Generar 4 funciones: suma, resta, multiplicacion y division\n",
    "#Cada una recibe 2 argumentos que seran operados\n",
    "#Regresar el resultado de la funcion con return \n",
    "def suma(a,b):\n",
    "    resultado = a + b\n",
    "    return resultado\n",
    "def resta(a,b):\n",
    "    resultado = a - b\n",
    "    return resultado\n",
    "def multiplicacion(a,b):\n",
    "    resultado = a * b\n",
    "    return resultado\n",
    "def division(a,b):\n",
    "    resultado = a / b\n",
    "    return resultado\n",
    "\n",
    "\n",
    "while True:\n",
    "    #\\n salto de linea\n",
    "    print(\"Bienvenid@ a la calculadora :D \\n Ingrese una opcion\")\n",
    "    print(\"Opcion 1: Sumar\")\n",
    "    print(\"Opcion 2: Restar\")\n",
    "    print(\"Opcion 3: Multiplicar\")\n",
    "    print(\"Opcion 4: Dividir\")\n",
    "    print(\"Opcion 5: Salir\")\n",
    "    opcion = int(input(\"Elija una opcion\"))\n",
    "    if (opcion == 1):\n",
    "        #sumar\n",
    "        numero1 = int(input(\"Ingrese el numero 1: \"))\n",
    "        numero2 = int(input(\"Ingrese el numero 2: \"))\n",
    "        print(\"Realizando suma...\")\n",
    "        print(\"EL resultado es: \"+str(suma(numero1, numero2)))\n",
    "    elif(opcion == 2):\n",
    "        #restar\n",
    "        numero1 = int(input(\"Ingrese el numero 1: \"))\n",
    "        numero2 = int(input(\"Ingrese el numero 2: \"))\n",
    "        print(\"Realizando resta...\")\n",
    "        print(\"EL resultado es: \"+str(resta(numero1, numero2)))\n",
    "    elif(opcion == 3):\n",
    "        #multiplicar\n",
    "        numero1 = int(input(\"Ingrese el numero 1: \"))\n",
    "        numero2 = int(input(\"Ingrese el numero 2: \"))\n",
    "        print(\"Realizando multiplicación...\")\n",
    "        print(\"EL resultado es: \"+str(multiplicacion(numero1, numero2)))\n",
    "    elif(opcion == 4):\n",
    "        #dividir\n",
    "        numero1 = int(input(\"Ingrese el numero 1: \"))\n",
    "        numero2 = int(input(\"Ingrese el numero 2: \"))\n",
    "        print(\"Realizando división...\")\n",
    "        print(\"EL resultado es: \"+str(division(numero1, numero2)))\n",
    "    elif(opcion == 5):\n",
    "        print(\"Gracias por usar nuestra calculadora :D\")\n",
    "        #forzar a que termine\n",
    "        break"
   ]
  },
  {
   "cell_type": "code",
   "execution_count": 39,
   "metadata": {},
   "outputs": [
    {
     "data": {
      "text/plain": [
       "5"
      ]
     },
     "execution_count": 39,
     "metadata": {},
     "output_type": "execute_result"
    }
   ],
   "source": [
    "s = 5\n",
    "s"
   ]
  }
 ],
 "metadata": {
  "kernelspec": {
   "display_name": "Python 3",
   "language": "python",
   "name": "python3"
  },
  "language_info": {
   "codemirror_mode": {
    "name": "ipython",
    "version": 3
   },
   "file_extension": ".py",
   "mimetype": "text/x-python",
   "name": "python",
   "nbconvert_exporter": "python",
   "pygments_lexer": "ipython3",
   "version": "3.9.6"
  }
 },
 "nbformat": 4,
 "nbformat_minor": 4
}
